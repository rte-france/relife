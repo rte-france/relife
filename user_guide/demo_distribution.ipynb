{
 "cells": [
  {
   "cell_type": "markdown",
   "id": "841eb7ff-1148-401a-ae0f-1f1159475a26",
   "metadata": {},
   "source": [
    "# Distribution model"
   ]
  },
  {
   "cell_type": "markdown",
   "id": "b2c057ea-ec10-409d-814c-0809549f1375",
   "metadata": {},
   "source": [
    "Import the necessary functionalities from Relife"
   ]
  },
  {
   "cell_type": "code",
   "execution_count": 1,
   "id": "1f3d011e-9abd-4d21-bf19-8b736fcd870b",
   "metadata": {},
   "outputs": [],
   "source": [
    "import numpy as np\n",
    "import matplotlib.pyplot as plt\n",
    "from relife.models import Weibull, Gompertz\n",
    "from relife.datasets import load_circuit_breaker"
   ]
  },
  {
   "cell_type": "markdown",
   "id": "36125794-05b8-49f5-af95-747191ffacae",
   "metadata": {},
   "source": [
    "Here is a toy datasets that contains the following 15 first data"
   ]
  },
  {
   "cell_type": "code",
   "execution_count": 2,
   "id": "4a15f977-6795-4fb6-b830-8bde36f18770",
   "metadata": {},
   "outputs": [
    {
     "data": {
      "text/html": [
       "<div>\n",
       "<style scoped>\n",
       "    .dataframe tbody tr th:only-of-type {\n",
       "        vertical-align: middle;\n",
       "    }\n",
       "\n",
       "    .dataframe tbody tr th {\n",
       "        vertical-align: top;\n",
       "    }\n",
       "\n",
       "    .dataframe thead th {\n",
       "        text-align: right;\n",
       "    }\n",
       "</style>\n",
       "<table border=\"1\" class=\"dataframe\">\n",
       "  <thead>\n",
       "    <tr style=\"text-align: right;\">\n",
       "      <th></th>\n",
       "      <th>time</th>\n",
       "      <th>event</th>\n",
       "      <th>entry</th>\n",
       "    </tr>\n",
       "  </thead>\n",
       "  <tbody>\n",
       "    <tr>\n",
       "      <th>0</th>\n",
       "      <td>34.0</td>\n",
       "      <td>1.0</td>\n",
       "      <td>33.0</td>\n",
       "    </tr>\n",
       "    <tr>\n",
       "      <th>1</th>\n",
       "      <td>28.0</td>\n",
       "      <td>1.0</td>\n",
       "      <td>27.0</td>\n",
       "    </tr>\n",
       "    <tr>\n",
       "      <th>2</th>\n",
       "      <td>12.0</td>\n",
       "      <td>1.0</td>\n",
       "      <td>11.0</td>\n",
       "    </tr>\n",
       "    <tr>\n",
       "      <th>3</th>\n",
       "      <td>38.0</td>\n",
       "      <td>1.0</td>\n",
       "      <td>37.0</td>\n",
       "    </tr>\n",
       "    <tr>\n",
       "      <th>4</th>\n",
       "      <td>18.0</td>\n",
       "      <td>1.0</td>\n",
       "      <td>17.0</td>\n",
       "    </tr>\n",
       "    <tr>\n",
       "      <th>5</th>\n",
       "      <td>32.0</td>\n",
       "      <td>1.0</td>\n",
       "      <td>31.0</td>\n",
       "    </tr>\n",
       "    <tr>\n",
       "      <th>6</th>\n",
       "      <td>44.0</td>\n",
       "      <td>1.0</td>\n",
       "      <td>43.0</td>\n",
       "    </tr>\n",
       "    <tr>\n",
       "      <th>7</th>\n",
       "      <td>49.0</td>\n",
       "      <td>1.0</td>\n",
       "      <td>48.0</td>\n",
       "    </tr>\n",
       "    <tr>\n",
       "      <th>8</th>\n",
       "      <td>27.0</td>\n",
       "      <td>1.0</td>\n",
       "      <td>26.0</td>\n",
       "    </tr>\n",
       "    <tr>\n",
       "      <th>9</th>\n",
       "      <td>47.0</td>\n",
       "      <td>1.0</td>\n",
       "      <td>46.0</td>\n",
       "    </tr>\n",
       "    <tr>\n",
       "      <th>10</th>\n",
       "      <td>44.0</td>\n",
       "      <td>1.0</td>\n",
       "      <td>43.0</td>\n",
       "    </tr>\n",
       "    <tr>\n",
       "      <th>11</th>\n",
       "      <td>70.0</td>\n",
       "      <td>1.0</td>\n",
       "      <td>69.0</td>\n",
       "    </tr>\n",
       "    <tr>\n",
       "      <th>12</th>\n",
       "      <td>40.0</td>\n",
       "      <td>1.0</td>\n",
       "      <td>38.0</td>\n",
       "    </tr>\n",
       "    <tr>\n",
       "      <th>13</th>\n",
       "      <td>37.0</td>\n",
       "      <td>1.0</td>\n",
       "      <td>35.0</td>\n",
       "    </tr>\n",
       "    <tr>\n",
       "      <th>14</th>\n",
       "      <td>26.0</td>\n",
       "      <td>1.0</td>\n",
       "      <td>24.0</td>\n",
       "    </tr>\n",
       "  </tbody>\n",
       "</table>\n",
       "</div>"
      ],
      "text/plain": [
       "    time  event  entry\n",
       "0   34.0    1.0   33.0\n",
       "1   28.0    1.0   27.0\n",
       "2   12.0    1.0   11.0\n",
       "3   38.0    1.0   37.0\n",
       "4   18.0    1.0   17.0\n",
       "5   32.0    1.0   31.0\n",
       "6   44.0    1.0   43.0\n",
       "7   49.0    1.0   48.0\n",
       "8   27.0    1.0   26.0\n",
       "9   47.0    1.0   46.0\n",
       "10  44.0    1.0   43.0\n",
       "11  70.0    1.0   69.0\n",
       "12  40.0    1.0   38.0\n",
       "13  37.0    1.0   35.0\n",
       "14  26.0    1.0   24.0"
      ]
     },
     "metadata": {},
     "output_type": "display_data"
    }
   ],
   "source": [
    "import pandas as pd\n",
    "\n",
    "time, event, entry = load_circuit_breaker()\n",
    "data = pd.DataFrame({\"time\": time, \"event\": event, \"entry\": entry})\n",
    "display(data.head(n=15))"
   ]
  },
  {
   "cell_type": "markdown",
   "id": "6239abae-bb58-4fc4-8720-d2a58575f4b6",
   "metadata": {},
   "source": [
    "## Basics"
   ]
  },
  {
   "cell_type": "markdown",
   "id": "6799db0f-17ea-4b6e-9799-3001e8f0452d",
   "metadata": {},
   "source": [
    "One can instanciate a Weibull distribution model as follow"
   ]
  },
  {
   "cell_type": "code",
   "execution_count": 4,
   "id": "409ef0ea-2136-45b4-a5cc-daf82c199a6c",
   "metadata": {},
   "outputs": [],
   "source": [
    "weibull = Weibull()"
   ]
  },
  {
   "cell_type": "markdown",
   "id": "660dde27-04f2-4acd-95b7-3150fe3db1c6",
   "metadata": {},
   "source": [
    "From now, the model parameters are unknow, thus set to `np.nan`"
   ]
  },
  {
   "cell_type": "code",
   "execution_count": 5,
   "id": "6501bce4-4d9d-495f-80d3-14bb290ec6f2",
   "metadata": {},
   "outputs": [
    {
     "name": "stdout",
     "output_type": "stream",
     "text": [
      "['shape', 'rate']\n",
      "[None None]\n"
     ]
    }
   ],
   "source": [
    "print(weibull.params_names)\n",
    "print(weibull.params)"
   ]
  },
  {
   "cell_type": "markdown",
   "id": "10cc5d32-5b64-4c4b-b9ff-43aa8cc360b6",
   "metadata": {},
   "source": [
    "## Parameters estimations"
   ]
  },
  {
   "cell_type": "markdown",
   "id": "f260a79c-4148-4039-8d87-bc40b2c98e8f",
   "metadata": {},
   "source": [
    "One can fit the model. You can either return a new fitted instance or fit the model inplace"
   ]
  },
  {
   "cell_type": "code",
   "execution_count": 6,
   "id": "46c0483b-1466-4c2a-a064-aee14962859c",
   "metadata": {},
   "outputs": [
    {
     "name": "stdout",
     "output_type": "stream",
     "text": [
      "Estimated parameters are : [3.7267452  0.01232326]\n"
     ]
    }
   ],
   "source": [
    "weibull = weibull.fit(time, event, entry)\n",
    "print(\"Estimated parameters are :\", weibull.params)"
   ]
  },
  {
   "cell_type": "markdown",
   "id": "ddd2c459-603e-465f-b761-1bc6e67f6caf",
   "metadata": {},
   "source": [
    "## Plots"
   ]
  },
  {
   "cell_type": "markdown",
   "id": "fed34c27-efd7-407b-a1b6-7239ce93a220",
   "metadata": {},
   "source": [
    "To plot the survival function, do the following"
   ]
  },
  {
   "cell_type": "code",
   "execution_count": 7,
   "id": "84a64ff4-9096-4138-a1f8-5c6187231c3d",
   "metadata": {},
   "outputs": [
    {
     "data": {
      "text/plain": [
       "<Axes: >"
      ]
     },
     "execution_count": 7,
     "metadata": {},
     "output_type": "execute_result"
    },
    {
     "data": {
      "image/png": "[encoded data removed]",
      "text/plain": [
       "<Figure size 640x480 with 1 Axes>"
      ]
     },
     "metadata": {},
     "output_type": "display_data"
    }
   ],
   "source": [
    "weibull.plot.sf()"
   ]
  }
 ],
 "metadata": {
  "kernelspec": {
   "display_name": "Python 3 (ipykernel)",
   "language": "python",
   "name": "python3"
  },
  "language_info": {
   "codemirror_mode": {
    "name": "ipython",
    "version": 3
   },
   "file_extension": ".py",
   "mimetype": "text/x-python",
   "name": "python",
   "nbconvert_exporter": "python",
   "pygments_lexer": "ipython3",
   "version": "3.11.0rc1"
  }
 },
 "nbformat": 4,
 "nbformat_minor": 5
}
