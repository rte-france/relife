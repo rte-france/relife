{
 "cells": [
  {
   "cell_type": "code",
   "execution_count": 1,
   "id": "fa639125-c6d1-45cf-816c-6652afdd3e7e",
   "metadata": {},
   "outputs": [],
   "source": [
    "import numpy as np\n",
    "from relife2.data import SurvivalData"
   ]
  },
  {
   "cell_type": "code",
   "execution_count": 2,
   "id": "c228da8e-f43f-4893-ba24-92684bb718ef",
   "metadata": {},
   "outputs": [],
   "source": [
    "def show_data(data : SurvivalData):\n",
    "    data.info()\n",
    "    print(\"\\n\")\n",
    "    print(\"lifetimes:\\n\", data.lifetimes)\n",
    "    print(\"\\n\")\n",
    "    print(\"observed lifetimes index:\\n\", data.observed())\n",
    "    print(\"observed lifetimes values:\\n\", data.observed(return_values=True))\n",
    "    print(\"\\n\")\n",
    "    print(\"left censored index:\\n\", data.censored(how=\"left\"))\n",
    "    print(\"left censored values:\\n\", data.censored(return_values=True, how=\"left\"))\n",
    "    print(\"\\n\")\n",
    "    print(\"right censored  index:\\n\", data.censored(how=\"right\"))\n",
    "    print(\"right censored  values:\\n\", data.censored(return_values=True, how=\"right\"))\n",
    "    print(\"\\n\")\n",
    "    print(\"interval censored index:\\n\", data.censored(how=\"interval\"))\n",
    "    print(\"interval censored values:\\n\", data.censored(return_values=True, how=\"interval\"))"
   ]
  },
  {
   "cell_type": "markdown",
   "id": "9d150ea5-e6b7-4786-801a-75899b3c4672",
   "metadata": {},
   "source": [
    "# 1D lifetime"
   ]
  },
  {
   "cell_type": "code",
   "execution_count": 3,
   "id": "e75c0bac-8e48-462d-b13d-0e87e2cdcfe4",
   "metadata": {},
   "outputs": [
    {
     "name": "stdout",
     "output_type": "stream",
     "text": [
      "     Lifetime data            Counts\n",
      "              Tot.               100\n",
      "          Observed               100\n",
      "     Left censored                 0\n",
      "    Right censored                 0\n",
      " Interval censored                 0\n",
      "    Left truncated                 0\n",
      "   Right truncated                 0\n",
      "Interval truncated                 0\n",
      "\n",
      "\n",
      "lifetimes:\n",
      " [14 40 33 47 43 10 27 25 44 35 33 18 17 48 26 15 40 42 40 35 30 37 40 26\n",
      " 39 43 42 10 14 11 45 28 35 35 41 43 45 10 28 17 39 10 35 26 11 11 12 21\n",
      " 42 11 17 18 18 42 21 21 24 46 46 11 28 34 33 27 39 12 26 45 19 44 40 37\n",
      " 25 29 32 38 36 41 23 19 47 28 15 39 39 22 49 14 46 39 29 37 20 25 21 20\n",
      " 42 32 44 26]\n",
      "\n",
      "\n",
      "observed lifetimes index:\n",
      " [ 0  1  2  3  4  5  6  7  8  9 10 11 12 13 14 15 16 17 18 19 20 21 22 23\n",
      " 24 25 26 27 28 29 30 31 32 33 34 35 36 37 38 39 40 41 42 43 44 45 46 47\n",
      " 48 49 50 51 52 53 54 55 56 57 58 59 60 61 62 63 64 65 66 67 68 69 70 71\n",
      " 72 73 74 75 76 77 78 79 80 81 82 83 84 85 86 87 88 89 90 91 92 93 94 95\n",
      " 96 97 98 99]\n",
      "observed lifetimes values:\n",
      " [14 40 33 47 43 10 27 25 44 35 33 18 17 48 26 15 40 42 40 35 30 37 40 26\n",
      " 39 43 42 10 14 11 45 28 35 35 41 43 45 10 28 17 39 10 35 26 11 11 12 21\n",
      " 42 11 17 18 18 42 21 21 24 46 46 11 28 34 33 27 39 12 26 45 19 44 40 37\n",
      " 25 29 32 38 36 41 23 19 47 28 15 39 39 22 49 14 46 39 29 37 20 25 21 20\n",
      " 42 32 44 26]\n",
      "\n",
      "\n",
      "left censored index:\n",
      " []\n",
      "left censored values:\n",
      " []\n",
      "\n",
      "\n",
      "right censored  index:\n",
      " []\n",
      "right censored  values:\n",
      " []\n",
      "\n",
      "\n",
      "interval censored index:\n",
      " []\n",
      "interval censored values:\n",
      " []\n"
     ]
    }
   ],
   "source": [
    "time = np.random.randint(10, high=50, size=100)\n",
    "data = SurvivalData(time)\n",
    "show_data(data)"
   ]
  },
  {
   "cell_type": "code",
   "execution_count": 4,
   "id": "2203d846-4266-459b-ae54-7bf178387f61",
   "metadata": {},
   "outputs": [
    {
     "name": "stdout",
     "output_type": "stream",
     "text": [
      "     Lifetime data            Counts\n",
      "              Tot.               100\n",
      "          Observed                43\n",
      "     Left censored                 0\n",
      "    Right censored                57\n",
      " Interval censored                 0\n",
      "    Left truncated                 0\n",
      "   Right truncated                 0\n",
      "Interval truncated                 0\n",
      "\n",
      "\n",
      "lifetimes:\n",
      " [34 27 45 31 40 32 23 19 45 34 22 48 34 31 41 16 30 26 31 33 39 16 26 40\n",
      " 30 27 47 14 23 28 29 25 19 37 22 14 15 30 32 23 43 14 36 35 41 47 19 14\n",
      " 15 28 47 27 21 19 43 48 10 32 27 45 13 20 30 44 29 27 47 44 41 36 11 35\n",
      " 20 41 33 36 38 14 21 39 12 19 14 18 48 19 19 48 20 24 43 24 36 23 19 41\n",
      " 28 46 40 35]\n",
      "\n",
      "\n",
      "observed lifetimes index:\n",
      " [ 0  4  5  9 12 23 24 25 26 28 29 30 31 33 34 36 38 41 43 47 48 51 52 56\n",
      " 57 58 62 64 65 66 67 70 71 72 74 75 80 83 88 89 91 95 98]\n",
      "observed lifetimes values:\n",
      " [34 40 32 34 34 40 30 27 47 23 28 29 25 37 22 15 32 14 35 14 15 27 21 10\n",
      " 32 27 30 29 27 47 44 11 35 20 33 36 12 18 20 24 24 41 40]\n",
      "\n",
      "\n",
      "left censored index:\n",
      " []\n",
      "left censored values:\n",
      " []\n",
      "\n",
      "\n",
      "right censored  index:\n",
      " [ 1  2  3  6  7  8 10 11 13 14 15 16 17 18 19 20 21 22 27 32 35 37 39 40\n",
      " 42 44 45 46 49 50 53 54 55 59 60 61 63 68 69 73 76 77 78 79 81 82 84 85\n",
      " 86 87 90 92 93 94 96 97 99]\n",
      "right censored  values:\n",
      " [27 45 31 23 19 45 22 48 31 41 16 30 26 31 33 39 16 26 14 19 14 30 23 43\n",
      " 36 41 47 19 28 47 19 43 48 45 13 20 44 41 36 41 38 14 21 39 19 14 48 19\n",
      " 19 48 43 36 23 19 28 46 35]\n",
      "\n",
      "\n",
      "interval censored index:\n",
      " []\n",
      "interval censored values:\n",
      " []\n"
     ]
    }
   ],
   "source": [
    "time = np.random.randint(10, high=50, size=100)\n",
    "event = np.random.randint(0, 2, size=100)\n",
    "data = SurvivalData(time, event=event)\n",
    "show_data(data)"
   ]
  },
  {
   "cell_type": "code",
   "execution_count": 5,
   "id": "f89d9a9c-c05f-4db4-a235-36d36df76bed",
   "metadata": {},
   "outputs": [
    {
     "name": "stdout",
     "output_type": "stream",
     "text": [
      "[1 0 0 0 1 1 0 0 0 1 0 0 1 0 0 0 0 0 0 0 0 0 0 1 1 1 1 0 1 1 1 1 0 1 1 0 1\n",
      " 0 1 0 0 1 0 1 0 0 0 1 1 0 0 1 1 0 0 0 1 1 1 0 0 0 1 0 1 1 1 1 0 0 1 1 1 0\n",
      " 1 1 0 0 0 0 1 0 0 1 0 0 0 0 1 1 0 1 0 0 0 1 0 0 1 0]\n"
     ]
    }
   ],
   "source": [
    "print(event)"
   ]
  },
  {
   "cell_type": "code",
   "execution_count": 6,
   "id": "bb9b71e4-9dab-4479-8c25-281d9dbe4c86",
   "metadata": {},
   "outputs": [
    {
     "name": "stdout",
     "output_type": "stream",
     "text": [
      "[1 0 0 0 1 1 0 0 0 1 0 0 1 0 0 0 0 0 0 0 0 0 0 1 1 1 1 0 1 1 1 1 0 1 1 0 1\n",
      " 0 1 0 0 1 0 1 0 0 0 1 1 0 0 1 1 0 0 0 1 1 1 0 0 0 1 0 1 1 1 1 0 0 1 1 1 0\n",
      " 1 1 0 0 0 0 1 0 0 1 0 0 0 0 1 1 0 1 0 0 0 1 0 0 1 0]\n"
     ]
    }
   ],
   "source": [
    "print(event)"
   ]
  },
  {
   "cell_type": "code",
   "execution_count": 7,
   "id": "f0621831-d476-45fe-85a6-ddca5a8fb6ae",
   "metadata": {},
   "outputs": [
    {
     "name": "stdout",
     "output_type": "stream",
     "text": [
      "     Lifetime data            Counts\n",
      "              Tot.               100\n",
      "          Observed                50\n",
      "     Left censored                 0\n",
      "    Right censored                50\n",
      " Interval censored                 0\n",
      "    Left truncated               100\n",
      "   Right truncated                 0\n",
      "Interval truncated                 0\n",
      "\n",
      "\n",
      "lifetimes:\n",
      " [42 45 31 27 46 31 35 39 40 32 24 44 25 24 26 44 45 36 42 23 26 21 28 25\n",
      " 40 34 38 44 33 32 38 48 30 39 24 46 32 22 48 25 30 47 46 40 40 44 37 23\n",
      " 21 48 23 27 22 32 21 45 44 35 49 34 24 26 31 33 45 43 47 27 43 32 37 40\n",
      " 33 31 33 39 30 23 35 38 41 49 46 27 31 33 48 47 47 40 23 39 40 24 40 30\n",
      " 26 37 39 34]\n",
      "\n",
      "\n",
      "observed lifetimes index:\n",
      " [ 3  8 12 13 14 16 18 19 20 24 25 27 30 36 41 42 43 44 46 49 50 51 56 59\n",
      " 60 63 64 65 66 67 68 69 71 72 73 75 76 77 78 82 84 86 87 88 89 92 94 95\n",
      " 97 98]\n",
      "observed lifetimes values:\n",
      " [27 40 25 24 26 45 42 23 26 40 34 44 38 32 47 46 40 40 37 48 23 27 44 34\n",
      " 24 33 45 43 47 27 43 32 40 33 31 39 30 23 35 46 31 48 47 47 40 40 40 30\n",
      " 37 39]\n",
      "\n",
      "\n",
      "left censored index:\n",
      " []\n",
      "left censored values:\n",
      " []\n",
      "\n",
      "\n",
      "right censored  index:\n",
      " [ 0  1  2  4  5  6  7  9 10 11 15 17 21 22 23 26 28 29 31 32 33 34 35 37\n",
      " 38 39 40 45 47 48 52 53 54 55 57 58 61 62 70 74 79 80 81 83 85 90 91 93\n",
      " 96 99]\n",
      "right censored  values:\n",
      " [42 45 31 46 31 35 39 32 24 44 44 36 21 28 25 38 33 32 48 30 39 24 46 22\n",
      " 48 25 30 44 23 21 22 32 21 45 35 49 26 31 37 33 38 41 49 27 33 23 39 24\n",
      " 26 34]\n",
      "\n",
      "\n",
      "interval censored index:\n",
      " []\n",
      "interval censored values:\n",
      " []\n"
     ]
    }
   ],
   "source": [
    "time = np.random.randint(21, high=50, size=100)\n",
    "event = np.random.randint(0, 2, size=100)\n",
    "entry = np.random.randint(10, high=20, size=100)\n",
    "data = SurvivalData(time, event=event, entry=entry)\n",
    "show_data(data)"
   ]
  },
  {
   "cell_type": "markdown",
   "id": "d825f0eb-8304-40e3-a4b4-325d59480844",
   "metadata": {},
   "source": [
    "# 2D lifetime"
   ]
  },
  {
   "cell_type": "code",
   "execution_count": 8,
   "id": "fc2afcc9-240f-4afb-b3d5-58969e704e08",
   "metadata": {},
   "outputs": [
    {
     "name": "stdout",
     "output_type": "stream",
     "text": [
      "     Lifetime data            Counts\n",
      "              Tot.                 7\n",
      "          Observed                 2\n",
      "     Left censored                 1\n",
      "    Right censored                 1\n",
      " Interval censored                 3\n",
      "    Left truncated                 0\n",
      "   Right truncated                 0\n",
      "Interval truncated                 0\n",
      "\n",
      "\n",
      "lifetimes:\n",
      " [[ 1.  2.]\n",
      " [ 0.  4.]\n",
      " [ 5.  5.]\n",
      " [ 7. inf]\n",
      " [10. 10.]\n",
      " [ 2. 10.]\n",
      " [10. 11.]]\n",
      "\n",
      "\n",
      "observed lifetimes index:\n",
      " [2 4]\n",
      "observed lifetimes values:\n",
      " [ 5. 10.]\n",
      "\n",
      "\n",
      "left censored index:\n",
      " [1]\n",
      "left censored values:\n",
      " [4.]\n",
      "\n",
      "\n",
      "right censored  index:\n",
      " [3]\n",
      "right censored  values:\n",
      " [7.]\n",
      "\n",
      "\n",
      "interval censored index:\n",
      " [0 5 6]\n",
      "interval censored values:\n",
      " [[ 1.  2.]\n",
      " [ 2. 10.]\n",
      " [10. 11.]]\n"
     ]
    }
   ],
   "source": [
    "time = np.array([\n",
    "    [1,2],\n",
    "    [0,4],\n",
    "    [5,5],\n",
    "    [7,np.inf],\n",
    "    [10,10],\n",
    "    [2,10],\n",
    "    [10,11]\n",
    "])\n",
    "data = SurvivalData(time)\n",
    "show_data(data)"
   ]
  }
 ],
 "metadata": {
  "kernelspec": {
   "display_name": "Python 3 (ipykernel)",
   "language": "python",
   "name": "python3"
  },
  "language_info": {
   "codemirror_mode": {
    "name": "ipython",
    "version": 3
   },
   "file_extension": ".py",
   "mimetype": "text/x-python",
   "name": "python",
   "nbconvert_exporter": "python",
   "pygments_lexer": "ipython3",
   "version": "3.9.18"
  }
 },
 "nbformat": 4,
 "nbformat_minor": 5
}
