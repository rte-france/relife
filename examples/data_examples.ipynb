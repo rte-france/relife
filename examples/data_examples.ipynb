{
 "cells": [
  {
   "cell_type": "code",
   "execution_count": 1,
   "id": "fa639125-c6d1-45cf-816c-6652afdd3e7e",
   "metadata": {},
   "outputs": [],
   "source": [
    "import numpy as np\n",
    "from relife2 import SurvivalData"
   ]
  },
  {
   "cell_type": "code",
   "execution_count": 2,
   "id": "c228da8e-f43f-4893-ba24-92684bb718ef",
   "metadata": {},
   "outputs": [],
   "source": [
    "def show_data(data : SurvivalData):\n",
    "    data.info()\n",
    "    print(\"\\n\")\n",
    "    print(\"lifetimes:\\n\", data.lifetimes)\n",
    "    print(\"\\n\")\n",
    "    print(\"observed lifetimes index:\\n\", data.observed())\n",
    "    print(\"observed lifetimes values:\\n\", data.observed(return_values=True))\n",
    "    print(\"\\n\")\n",
    "    print(\"left censored index:\\n\", data.censored(how=\"left\"))\n",
    "    print(\"left censored values:\\n\", data.censored(return_values=True, how=\"left\"))\n",
    "    print(\"\\n\")\n",
    "    print(\"right censored  index:\\n\", data.censored(how=\"right\"))\n",
    "    print(\"right censored  values:\\n\", data.censored(return_values=True, how=\"right\"))\n",
    "    print(\"\\n\")\n",
    "    print(\"interval censored index:\\n\", data.censored(how=\"interval\"))\n",
    "    print(\"interval censored values:\\n\", data.censored(return_values=True, how=\"interval\"))"
   ]
  },
  {
   "cell_type": "markdown",
   "id": "9d150ea5-e6b7-4786-801a-75899b3c4672",
   "metadata": {},
   "source": [
    "# 1D lifetime"
   ]
  },
  {
   "cell_type": "code",
   "execution_count": 3,
   "id": "e75c0bac-8e48-462d-b13d-0e87e2cdcfe4",
   "metadata": {},
   "outputs": [
    {
     "name": "stdout",
     "output_type": "stream",
     "text": [
      "     Lifetime data            Counts\n",
      "              Tot.               100\n",
      "          Observed               100\n",
      "     Left censored                 0\n",
      "    Right censored                 0\n",
      " Interval censored                 0\n",
      "    Left truncated                 0\n",
      "   Right truncated                 0\n",
      "Interval truncated                 0\n",
      "\n",
      "\n",
      "lifetimes:\n",
      " [48 42 22 44 36 14 48 13 18 27 29 48 25 48 27 22 15 27 19 16 32 30 45 48\n",
      " 33 46 49 27 16 39 37 20 13 14 41 36 27 19 21 30 34 29 14 43 28 48 33 10\n",
      " 12 22 29 15 40 43 31 22 18 34 37 19 34 20 14 16 45 25 13 23 18 47 35 18\n",
      " 37 23 49 29 15 45 38 47 38 39 13 20 40 20 42 29 30 11 11 15 45 20 46 27\n",
      " 40 11 46 28]\n",
      "\n",
      "\n",
      "observed lifetimes index:\n",
      " [ 0  1  2  3  4  5  6  7  8  9 10 11 12 13 14 15 16 17 18 19 20 21 22 23\n",
      " 24 25 26 27 28 29 30 31 32 33 34 35 36 37 38 39 40 41 42 43 44 45 46 47\n",
      " 48 49 50 51 52 53 54 55 56 57 58 59 60 61 62 63 64 65 66 67 68 69 70 71\n",
      " 72 73 74 75 76 77 78 79 80 81 82 83 84 85 86 87 88 89 90 91 92 93 94 95\n",
      " 96 97 98 99]\n",
      "observed lifetimes values:\n",
      " [48 42 22 44 36 14 48 13 18 27 29 48 25 48 27 22 15 27 19 16 32 30 45 48\n",
      " 33 46 49 27 16 39 37 20 13 14 41 36 27 19 21 30 34 29 14 43 28 48 33 10\n",
      " 12 22 29 15 40 43 31 22 18 34 37 19 34 20 14 16 45 25 13 23 18 47 35 18\n",
      " 37 23 49 29 15 45 38 47 38 39 13 20 40 20 42 29 30 11 11 15 45 20 46 27\n",
      " 40 11 46 28]\n",
      "\n",
      "\n",
      "left censored index:\n",
      " []\n",
      "left censored values:\n",
      " []\n",
      "\n",
      "\n",
      "right censored  index:\n",
      " []\n",
      "right censored  values:\n",
      " []\n",
      "\n",
      "\n",
      "interval censored index:\n",
      " []\n",
      "interval censored values:\n",
      " []\n"
     ]
    }
   ],
   "source": [
    "time = np.random.randint(10, high=50, size=100)\n",
    "data = SurvivalData(time)\n",
    "show_data(data)"
   ]
  },
  {
   "cell_type": "code",
   "execution_count": 4,
   "id": "2203d846-4266-459b-ae54-7bf178387f61",
   "metadata": {},
   "outputs": [
    {
     "name": "stdout",
     "output_type": "stream",
     "text": [
      "     Lifetime data            Counts\n",
      "              Tot.               100\n",
      "          Observed                56\n",
      "     Left censored                 0\n",
      "    Right censored                44\n",
      " Interval censored                 0\n",
      "    Left truncated                 0\n",
      "   Right truncated                 0\n",
      "Interval truncated                 0\n",
      "\n",
      "\n",
      "lifetimes:\n",
      " [49 49 21 30 15 48 44 48 13 34 17 48 33 29 36 15 43 13 14 45 19 18 23 47\n",
      " 30 13 13 39 19 37 30 33 16 13 13 28 44 14 16 28 49 35 28 40 15 36 36 32\n",
      " 22 16 33 16 19 39 18 41 21 37 48 32 20 13 18 19 15 17 23 34 34 39 28 25\n",
      " 15 11 38 38 19 11 25 45 30 44 32 24 27 42 10 26 35 29 36 16 25 34 21 39\n",
      " 46 13 26 39]\n",
      "\n",
      "\n",
      "observed lifetimes index:\n",
      " [ 0  1  4  5  6  7  9 11 14 18 19 21 22 23 24 25 26 27 29 30 31 36 37 38\n",
      " 43 48 49 50 51 52 53 55 56 58 59 61 65 66 69 70 72 74 76 77 78 79 82 83\n",
      " 84 86 87 89 90 93 94 99]\n",
      "observed lifetimes values:\n",
      " [49 49 15 48 44 48 34 48 36 14 45 18 23 47 30 13 13 39 37 30 33 44 14 16\n",
      " 40 22 16 33 16 19 39 41 21 48 32 13 17 23 39 28 15 38 19 11 25 45 32 24\n",
      " 27 10 26 29 36 34 21 39]\n",
      "\n",
      "\n",
      "left censored index:\n",
      " []\n",
      "left censored values:\n",
      " []\n",
      "\n",
      "\n",
      "right censored  index:\n",
      " [ 2  3  8 10 12 13 15 16 17 20 28 32 33 34 35 39 40 41 42 44 45 46 47 54\n",
      " 57 60 62 63 64 67 68 71 73 75 80 81 85 88 91 92 95 96 97 98]\n",
      "right censored  values:\n",
      " [21 30 13 17 33 29 15 43 13 19 19 16 13 13 28 28 49 35 28 15 36 36 32 18\n",
      " 37 20 18 19 15 34 34 25 11 38 30 44 42 35 16 25 39 46 13 26]\n",
      "\n",
      "\n",
      "interval censored index:\n",
      " []\n",
      "interval censored values:\n",
      " []\n"
     ]
    }
   ],
   "source": [
    "time = np.random.randint(10, high=50, size=100)\n",
    "event = np.random.randint(0, 2, size=100)\n",
    "data = SurvivalData(time, event=event)\n",
    "show_data(data)"
   ]
  },
  {
   "cell_type": "code",
   "execution_count": 5,
   "id": "f89d9a9c-c05f-4db4-a235-36d36df76bed",
   "metadata": {},
   "outputs": [
    {
     "name": "stdout",
     "output_type": "stream",
     "text": [
      "[1 1 0 0 1 1 1 1 0 1 0 1 0 0 1 0 0 0 1 1 0 1 1 1 1 1 1 1 0 1 1 1 0 0 0 0 1\n",
      " 1 1 0 0 0 0 1 0 0 0 0 1 1 1 1 1 1 0 1 1 0 1 1 0 1 0 0 0 1 1 0 0 1 1 0 1 0\n",
      " 1 0 1 1 1 1 0 0 1 1 1 0 1 1 0 1 1 0 0 1 1 0 0 0 0 1]\n"
     ]
    }
   ],
   "source": [
    "print(event)"
   ]
  },
  {
   "cell_type": "code",
   "execution_count": 6,
   "id": "bb9b71e4-9dab-4479-8c25-281d9dbe4c86",
   "metadata": {},
   "outputs": [
    {
     "name": "stdout",
     "output_type": "stream",
     "text": [
      "[1 1 0 0 1 1 1 1 0 1 0 1 0 0 1 0 0 0 1 1 0 1 1 1 1 1 1 1 0 1 1 1 0 0 0 0 1\n",
      " 1 1 0 0 0 0 1 0 0 0 0 1 1 1 1 1 1 0 1 1 0 1 1 0 1 0 0 0 1 1 0 0 1 1 0 1 0\n",
      " 1 0 1 1 1 1 0 0 1 1 1 0 1 1 0 1 1 0 0 1 1 0 0 0 0 1]\n"
     ]
    }
   ],
   "source": [
    "print(event)"
   ]
  },
  {
   "cell_type": "code",
   "execution_count": 7,
   "id": "f0621831-d476-45fe-85a6-ddca5a8fb6ae",
   "metadata": {},
   "outputs": [
    {
     "name": "stdout",
     "output_type": "stream",
     "text": [
      "     Lifetime data            Counts\n",
      "              Tot.               100\n",
      "          Observed                48\n",
      "     Left censored                 0\n",
      "    Right censored                52\n",
      " Interval censored                 0\n",
      "    Left truncated               100\n",
      "   Right truncated                 0\n",
      "Interval truncated                 0\n",
      "\n",
      "\n",
      "lifetimes:\n",
      " [28 48 47 37 29 45 21 40 30 34 37 22 22 43 34 40 34 31 44 33 34 39 33 37\n",
      " 25 47 21 40 39 29 25 46 23 40 37 24 25 26 42 40 37 45 22 41 22 32 29 25\n",
      " 27 45 38 21 39 49 22 40 44 23 45 49 37 35 40 35 28 29 39 31 29 29 43 43\n",
      " 42 23 23 37 29 39 43 22 48 41 43 21 40 38 36 21 25 38 29 25 30 36 30 22\n",
      " 36 28 21 27]\n",
      "\n",
      "\n",
      "observed lifetimes index:\n",
      " [ 0  3  5  6  9 11 13 16 18 21 22 23 24 25 26 31 32 33 37 38 41 43 44 46\n",
      " 48 49 51 52 56 58 59 61 62 65 68 71 72 74 75 76 80 84 85 86 88 89 95 99]\n",
      "observed lifetimes values:\n",
      " [28 37 45 21 34 22 43 34 44 39 33 37 25 47 21 46 23 40 26 42 45 41 22 29\n",
      " 27 45 21 39 44 45 49 35 40 29 29 43 42 23 37 29 48 40 38 36 25 38 22 27]\n",
      "\n",
      "\n",
      "left censored index:\n",
      " []\n",
      "left censored values:\n",
      " []\n",
      "\n",
      "\n",
      "right censored  index:\n",
      " [ 1  2  4  7  8 10 12 14 15 17 19 20 27 28 29 30 34 35 36 39 40 42 45 47\n",
      " 50 53 54 55 57 60 63 64 66 67 69 70 73 77 78 79 81 82 83 87 90 91 92 93\n",
      " 94 96 97 98]\n",
      "right censored  values:\n",
      " [48 47 29 40 30 37 22 34 40 31 33 34 40 39 29 25 37 24 25 40 37 22 32 25\n",
      " 38 49 22 40 23 37 35 28 39 31 29 43 23 39 43 22 41 43 21 21 29 25 30 36\n",
      " 30 36 28 21]\n",
      "\n",
      "\n",
      "interval censored index:\n",
      " []\n",
      "interval censored values:\n",
      " []\n"
     ]
    }
   ],
   "source": [
    "time = np.random.randint(21, high=50, size=100)\n",
    "event = np.random.randint(0, 2, size=100)\n",
    "entry = np.random.randint(10, high=20, size=100)\n",
    "data = SurvivalData(time, event=event, entry=entry)\n",
    "show_data(data)"
   ]
  },
  {
   "cell_type": "markdown",
   "id": "d825f0eb-8304-40e3-a4b4-325d59480844",
   "metadata": {},
   "source": [
    "# 2D lifetime"
   ]
  },
  {
   "cell_type": "code",
   "execution_count": 8,
   "id": "fc2afcc9-240f-4afb-b3d5-58969e704e08",
   "metadata": {},
   "outputs": [
    {
     "name": "stdout",
     "output_type": "stream",
     "text": [
      "     Lifetime data            Counts\n",
      "              Tot.                 7\n",
      "          Observed                 2\n",
      "     Left censored                 1\n",
      "    Right censored                 1\n",
      " Interval censored                 3\n",
      "    Left truncated                 0\n",
      "   Right truncated                 0\n",
      "Interval truncated                 0\n",
      "\n",
      "\n",
      "lifetimes:\n",
      " [[ 1.  2.]\n",
      " [ 0.  4.]\n",
      " [ 5.  5.]\n",
      " [ 7. inf]\n",
      " [10. 10.]\n",
      " [ 2. 10.]\n",
      " [10. 11.]]\n",
      "\n",
      "\n",
      "observed lifetimes index:\n",
      " [2 4]\n",
      "observed lifetimes values:\n",
      " [ 5. 10.]\n",
      "\n",
      "\n",
      "left censored index:\n",
      " [1]\n",
      "left censored values:\n",
      " [4.]\n",
      "\n",
      "\n",
      "right censored  index:\n",
      " [3]\n",
      "right censored  values:\n",
      " [7.]\n",
      "\n",
      "\n",
      "interval censored index:\n",
      " [0 5 6]\n",
      "interval censored values:\n",
      " [[ 1.  2.]\n",
      " [ 2. 10.]\n",
      " [10. 11.]]\n"
     ]
    }
   ],
   "source": [
    "time = np.array([\n",
    "    [1,2],\n",
    "    [0,4],\n",
    "    [5,5],\n",
    "    [7,np.inf],\n",
    "    [10,10],\n",
    "    [2,10],\n",
    "    [10,11]\n",
    "])\n",
    "data = SurvivalData(time)\n",
    "show_data(data)"
   ]
  }
 ],
 "metadata": {
  "kernelspec": {
   "display_name": "Python 3 (ipykernel)",
   "language": "python",
   "name": "python3"
  },
  "language_info": {
   "codemirror_mode": {
    "name": "ipython",
    "version": 3
   },
   "file_extension": ".py",
   "mimetype": "text/x-python",
   "name": "python",
   "nbconvert_exporter": "python",
   "pygments_lexer": "ipython3",
   "version": "3.9.18"
  }
 },
 "nbformat": 4,
 "nbformat_minor": 5
}
