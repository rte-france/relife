{
 "cells": [
  {
   "cell_type": "code",
   "execution_count": 1,
   "id": "fa639125-c6d1-45cf-816c-6652afdd3e7e",
   "metadata": {},
   "outputs": [],
   "source": [
    "import numpy as np\n",
    "from relife2 import SurvivalData"
   ]
  },
  {
   "cell_type": "code",
   "execution_count": 2,
   "id": "c228da8e-f43f-4893-ba24-92684bb718ef",
   "metadata": {},
   "outputs": [],
   "source": [
    "def show_data(data : SurvivalData):\n",
    "    data.info()\n",
    "    print(\"\\n\")\n",
    "    print(\"lifetimes:\\n\", data.lifetimes)\n",
    "    print(\"\\n\")\n",
    "    print(\"observed lifetimes index:\\n\", data.observed())\n",
    "    print(\"observed lifetimes values:\\n\", data.observed(return_values=True))\n",
    "    print(\"\\n\")\n",
    "    print(\"left censored index:\\n\", data.censored(how=\"left\"))\n",
    "    print(\"left censored values:\\n\", data.censored(return_values=True, how=\"left\"))\n",
    "    print(\"\\n\")\n",
    "    print(\"right censored  index:\\n\", data.censored(how=\"right\"))\n",
    "    print(\"right censored  values:\\n\", data.censored(return_values=True, how=\"right\"))\n",
    "    print(\"\\n\")\n",
    "    print(\"interval censored index:\\n\", data.censored(how=\"interval\"))\n",
    "    print(\"interval censored values:\\n\", data.censored(return_values=True, how=\"interval\"))"
   ]
  },
  {
   "cell_type": "markdown",
   "id": "9d150ea5-e6b7-4786-801a-75899b3c4672",
   "metadata": {},
   "source": [
    "# 1D lifetime"
   ]
  },
  {
   "cell_type": "code",
   "execution_count": 3,
   "id": "e75c0bac-8e48-462d-b13d-0e87e2cdcfe4",
   "metadata": {},
   "outputs": [
    {
     "name": "stdout",
     "output_type": "stream",
     "text": [
      "     Lifetime data            Counts\n",
      "              Tot.               100\n",
      "          Observed               100\n",
      "     Left censored                 0\n",
      "    Right censored                 0\n",
      " Interval censored                 0\n",
      "    Left truncated                 0\n",
      "   Right truncated                 0\n",
      "Interval truncated                 0\n",
      "\n",
      "\n",
      "lifetimes:\n",
      " [11 32 44 32 30 27 31 19 39 48 17 23 33 38 24 28 41 49 35 22 36 15 44 47\n",
      " 17 13 23 32 27 39 28 38 46 43 19 11 38 44 49 39 20 46 26 40 11 12 45 15\n",
      " 48 29 40 15 33 43 49 44 24 11 10 45 33 31 40 20 12 43 39 12 21 48 48 19\n",
      " 45 42 41 29 26 37 45 27 41 23 30 11 43 30 34 24 13 48 17 39 13 13 13 14\n",
      " 25 43 11 24]\n",
      "\n",
      "\n",
      "observed lifetimes index:\n",
      " [ 0  1  2  3  4  5  6  7  8  9 10 11 12 13 14 15 16 17 18 19 20 21 22 23\n",
      " 24 25 26 27 28 29 30 31 32 33 34 35 36 37 38 39 40 41 42 43 44 45 46 47\n",
      " 48 49 50 51 52 53 54 55 56 57 58 59 60 61 62 63 64 65 66 67 68 69 70 71\n",
      " 72 73 74 75 76 77 78 79 80 81 82 83 84 85 86 87 88 89 90 91 92 93 94 95\n",
      " 96 97 98 99]\n",
      "observed lifetimes values:\n",
      " [11 32 44 32 30 27 31 19 39 48 17 23 33 38 24 28 41 49 35 22 36 15 44 47\n",
      " 17 13 23 32 27 39 28 38 46 43 19 11 38 44 49 39 20 46 26 40 11 12 45 15\n",
      " 48 29 40 15 33 43 49 44 24 11 10 45 33 31 40 20 12 43 39 12 21 48 48 19\n",
      " 45 42 41 29 26 37 45 27 41 23 30 11 43 30 34 24 13 48 17 39 13 13 13 14\n",
      " 25 43 11 24]\n",
      "\n",
      "\n",
      "left censored index:\n",
      " []\n",
      "left censored values:\n",
      " []\n",
      "\n",
      "\n",
      "right censored  index:\n",
      " []\n",
      "right censored  values:\n",
      " []\n",
      "\n",
      "\n",
      "interval censored index:\n",
      " []\n",
      "interval censored values:\n",
      " []\n"
     ]
    }
   ],
   "source": [
    "time = np.random.randint(10, high=50, size=100)\n",
    "data = SurvivalData(time)\n",
    "show_data(data)"
   ]
  },
  {
   "cell_type": "code",
   "execution_count": 4,
   "id": "2203d846-4266-459b-ae54-7bf178387f61",
   "metadata": {},
   "outputs": [
    {
     "name": "stdout",
     "output_type": "stream",
     "text": [
      "     Lifetime data            Counts\n",
      "              Tot.               100\n",
      "          Observed                51\n",
      "     Left censored                49\n",
      "    Right censored                 0\n",
      " Interval censored                 0\n",
      "    Left truncated                 0\n",
      "   Right truncated                 0\n",
      "Interval truncated                 0\n",
      "\n",
      "\n",
      "lifetimes:\n",
      " [30 35 44 35 22 48 48 23 34 17 15 16 10 38 23 35 35 38 34 26 29 27 29 21\n",
      " 23 14 21 17 27 19 24 33 26 20 23 38 23 49 13 12 46 12 13 23 49 10 45 14\n",
      " 38 23 42 20 47 21 29 11 45 28 48 22 41 18 36 25 33 36 30 42 39 31 10 30\n",
      " 35 33 17 16 45 28 33 48 32 13 31 23 12 26 24 42 47 36 39 13 45 38 21 15\n",
      " 23 12 48 23]\n",
      "\n",
      "\n",
      "observed lifetimes index:\n",
      " [ 0  1  9 12 13 14 19 21 22 23 24 25 26 27 28 29 34 37 40 41 42 44 45 47\n",
      " 48 49 55 57 59 60 62 63 64 69 70 72 74 75 76 79 80 81 83 86 89 90 91 92\n",
      " 94 98 99]\n",
      "observed lifetimes values:\n",
      " [30 35 17 10 38 23 26 27 29 21 23 14 21 17 27 19 23 49 46 12 13 49 10 14\n",
      " 38 23 11 28 22 41 36 25 33 31 10 35 17 16 45 48 32 13 23 24 36 39 13 45\n",
      " 21 48 23]\n",
      "\n",
      "\n",
      "left censored index:\n",
      " [ 2  3  4  5  6  7  8 10 11 15 16 17 18 20 30 31 32 33 35 36 38 39 43 46\n",
      " 50 51 52 53 54 56 58 61 65 66 67 68 71 73 77 78 82 84 85 87 88 93 95 96\n",
      " 97]\n",
      "left censored values:\n",
      " [44 35 22 48 48 23 34 15 16 35 35 38 34 29 24 33 26 20 38 23 13 12 23 45\n",
      " 42 20 47 21 29 45 48 18 36 30 42 39 30 33 28 33 31 12 26 42 47 38 15 23\n",
      " 12]\n",
      "\n",
      "\n",
      "right censored  index:\n",
      " []\n",
      "right censored  values:\n",
      " []\n",
      "\n",
      "\n",
      "interval censored index:\n",
      " []\n",
      "interval censored values:\n",
      " []\n"
     ]
    }
   ],
   "source": [
    "time = np.random.randint(10, high=50, size=100)\n",
    "event = np.random.randint(0, 2, size=100)\n",
    "data = SurvivalData(time, event=event)\n",
    "show_data(data)"
   ]
  },
  {
   "cell_type": "code",
   "execution_count": 5,
   "id": "f89d9a9c-c05f-4db4-a235-36d36df76bed",
   "metadata": {},
   "outputs": [
    {
     "name": "stdout",
     "output_type": "stream",
     "text": [
      "[1 1 0 0 0 0 0 0 0 1 0 0 1 1 1 0 0 0 0 1 0 1 1 1 1 1 1 1 1 1 0 0 0 0 1 0 0\n",
      " 1 0 0 1 1 1 0 1 1 0 1 1 1 0 0 0 0 0 1 0 1 0 1 1 0 1 1 1 0 0 0 0 1 1 0 1 0\n",
      " 1 1 1 0 0 1 1 1 0 1 0 0 1 0 0 1 1 1 1 0 1 0 0 0 1 1]\n"
     ]
    }
   ],
   "source": [
    "print(event)"
   ]
  },
  {
   "cell_type": "code",
   "execution_count": 6,
   "id": "bb9b71e4-9dab-4479-8c25-281d9dbe4c86",
   "metadata": {},
   "outputs": [
    {
     "name": "stdout",
     "output_type": "stream",
     "text": [
      "[1 1 0 0 0 0 0 0 0 1 0 0 1 1 1 0 0 0 0 1 0 1 1 1 1 1 1 1 1 1 0 0 0 0 1 0 0\n",
      " 1 0 0 1 1 1 0 1 1 0 1 1 1 0 0 0 0 0 1 0 1 0 1 1 0 1 1 1 0 0 0 0 1 1 0 1 0\n",
      " 1 1 1 0 0 1 1 1 0 1 0 0 1 0 0 1 1 1 1 0 1 0 0 0 1 1]\n"
     ]
    }
   ],
   "source": [
    "print(event)"
   ]
  },
  {
   "cell_type": "code",
   "execution_count": 7,
   "id": "f0621831-d476-45fe-85a6-ddca5a8fb6ae",
   "metadata": {},
   "outputs": [
    {
     "name": "stdout",
     "output_type": "stream",
     "text": [
      "     Lifetime data            Counts\n",
      "              Tot.               100\n",
      "          Observed                47\n",
      "     Left censored                53\n",
      "    Right censored                 0\n",
      " Interval censored                 0\n",
      "    Left truncated               100\n",
      "   Right truncated                 0\n",
      "Interval truncated                 0\n",
      "\n",
      "\n",
      "lifetimes:\n",
      " [38 24 40 37 41 43 31 35 25 47 21 43 33 46 26 24 34 22 36 32 24 47 47 24\n",
      " 27 40 30 40 33 27 36 35 40 49 21 34 42 40 32 34 36 27 40 45 27 45 43 45\n",
      " 22 39 21 32 45 40 33 24 25 33 26 27 27 37 47 48 35 35 38 48 29 43 39 46\n",
      " 47 48 46 24 31 24 43 37 44 43 40 36 31 45 46 28 44 22 45 45 31 31 41 26\n",
      " 22 29 42 26]\n",
      "\n",
      "\n",
      "observed lifetimes index:\n",
      " [ 5  7  9 11 12 13 15 17 18 19 21 23 24 28 29 31 32 33 36 43 46 48 49 51\n",
      " 53 57 58 60 61 62 64 68 69 73 77 80 81 83 86 87 88 89 91 92 93 97 99]\n",
      "observed lifetimes values:\n",
      " [43 35 47 43 33 46 24 22 36 32 47 24 27 33 27 35 40 49 42 45 43 22 39 32\n",
      " 40 33 26 27 37 47 35 29 43 48 24 44 43 36 46 28 44 22 45 31 31 29 26]\n",
      "\n",
      "\n",
      "left censored index:\n",
      " [ 0  1  2  3  4  6  8 10 14 16 20 22 25 26 27 30 34 35 37 38 39 40 41 42\n",
      " 44 45 47 50 52 54 55 56 59 63 65 66 67 70 71 72 74 75 76 78 79 82 84 85\n",
      " 90 94 95 96 98]\n",
      "left censored values:\n",
      " [38 24 40 37 41 31 25 21 26 34 24 47 40 30 40 36 21 34 40 32 34 36 27 40\n",
      " 27 45 45 21 45 33 24 25 27 48 35 38 48 39 46 47 46 24 31 43 37 40 31 45\n",
      " 45 41 26 22 42]\n",
      "\n",
      "\n",
      "right censored  index:\n",
      " []\n",
      "right censored  values:\n",
      " []\n",
      "\n",
      "\n",
      "interval censored index:\n",
      " []\n",
      "interval censored values:\n",
      " []\n"
     ]
    }
   ],
   "source": [
    "time = np.random.randint(21, high=50, size=100)\n",
    "event = np.random.randint(0, 2, size=100)\n",
    "entry = np.random.randint(10, high=20, size=100)\n",
    "data = SurvivalData(time, event=event, entry=entry)\n",
    "show_data(data)"
   ]
  },
  {
   "cell_type": "markdown",
   "id": "d825f0eb-8304-40e3-a4b4-325d59480844",
   "metadata": {},
   "source": [
    "# 2D lifetime"
   ]
  },
  {
   "cell_type": "code",
   "execution_count": 8,
   "id": "fc2afcc9-240f-4afb-b3d5-58969e704e08",
   "metadata": {},
   "outputs": [
    {
     "name": "stdout",
     "output_type": "stream",
     "text": [
      "     Lifetime data            Counts\n",
      "              Tot.                 7\n",
      "          Observed                 2\n",
      "     Left censored                 1\n",
      "    Right censored                 1\n",
      " Interval censored                 3\n",
      "    Left truncated                 0\n",
      "   Right truncated                 0\n",
      "Interval truncated                 0\n",
      "\n",
      "\n",
      "lifetimes:\n",
      " [[ 1.  2.]\n",
      " [ 0.  4.]\n",
      " [ 5.  5.]\n",
      " [ 7. inf]\n",
      " [10. 10.]\n",
      " [ 2. 10.]\n",
      " [10. 11.]]\n",
      "\n",
      "\n",
      "observed lifetimes index:\n",
      " [2 4]\n",
      "observed lifetimes values:\n",
      " [ 5. 10.]\n",
      "\n",
      "\n",
      "left censored index:\n",
      " [1]\n",
      "left censored values:\n",
      " [4.]\n",
      "\n",
      "\n",
      "right censored  index:\n",
      " [3]\n",
      "right censored  values:\n",
      " [7.]\n",
      "\n",
      "\n",
      "interval censored index:\n",
      " [0 5 6]\n",
      "interval censored values:\n",
      " [[ 1.  2.]\n",
      " [ 2. 10.]\n",
      " [10. 11.]]\n"
     ]
    }
   ],
   "source": [
    "time = np.array([\n",
    "    [1,2],\n",
    "    [0,4],\n",
    "    [5,5],\n",
    "    [7,np.inf],\n",
    "    [10,10],\n",
    "    [2,10],\n",
    "    [10,11]\n",
    "])\n",
    "data = SurvivalData(time)\n",
    "show_data(data)"
   ]
  }
 ],
 "metadata": {
  "kernelspec": {
   "display_name": "Python 3 (ipykernel)",
   "language": "python",
   "name": "python3"
  },
  "language_info": {
   "codemirror_mode": {
    "name": "ipython",
    "version": 3
   },
   "file_extension": ".py",
   "mimetype": "text/x-python",
   "name": "python",
   "nbconvert_exporter": "python",
   "pygments_lexer": "ipython3",
   "version": "3.9.18"
  }
 },
 "nbformat": 4,
 "nbformat_minor": 5
}
